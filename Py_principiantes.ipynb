{
  "nbformat": 4,
  "nbformat_minor": 0,
  "metadata": {
    "colab": {
      "provenance": []
    },
    "kernelspec": {
      "name": "python3",
      "display_name": "Python 3"
    },
    "language_info": {
      "name": "python"
    }
  },
  "cells": [
    {
      "cell_type": "markdown",
      "source": [
        "#**¿Porqué aprender a programar?**\n",
        "De acuerdo con Charles Severance ([2016](https://www.amazon.com/Python-Everybody-Exploring-Data/dp/1530051126)), existen muchas razones por las cuales programar, desde ayudarte a resolver problemas en el análisis de datos, hasta por ayudar a alguien en un problema solo por diversión.\n",
        "\n",
        "En este notenook podras ver casillas donde se introduce código, esta, es la manera en la ue python te pregunta hacerca de lo que deseas realizar. Usted puede comenzar a hablar con python cmo a continuación:"
      ],
      "metadata": {
        "id": "6sT6X6p5gGOT"
      }
    },
    {
      "cell_type": "code",
      "execution_count": 1,
      "metadata": {
        "colab": {
          "base_uri": "https://localhost:8080/",
          "height": 148
        },
        "id": "4_lgfrojgB_-",
        "outputId": "58393b66-6dd3-40e3-c72b-e62b9d2a5ad5"
      },
      "outputs": [
        {
          "output_type": "error",
          "ename": "SyntaxError",
          "evalue": "ignored",
          "traceback": [
            "\u001b[0;36m  File \u001b[0;32m\"<ipython-input-1-801489010a7b>\"\u001b[0;36m, line \u001b[0;32m1\u001b[0m\n\u001b[0;31m    Hola python, como estas?, yo muy bien, bueno este es mi primer intento por comunicarme contigo, espero pordamos llevarnos bien!!!\u001b[0m\n\u001b[0m         ^\u001b[0m\n\u001b[0;31mSyntaxError\u001b[0m\u001b[0;31m:\u001b[0m invalid syntax\n"
          ]
        }
      ],
      "source": [
        "Hola python, como estas?, yo muy bien, bueno este es mi primer intento por comunicarme contigo, espero pordamos llevarnos bien!!!"
      ]
    },
    {
      "cell_type": "markdown",
      "source": [
        "Upss!, ¿Qué acaba de ocurrir?, no, no pienes que python se ha enojado contigo, es solo que python no puede comunicarse contigo en tu forma habitual de lenguaje, python, tiene su propio lenguaje, lleno de carácteres especiales, debes ser paciente y acostumbrarte a ellos.\n",
        "\n",
        "Empecemos por hacer que python repita lo que decimos, para ello usaremos la función print():"
      ],
      "metadata": {
        "id": "iMy7X2kkiHZf"
      }
    },
    {
      "cell_type": "code",
      "source": [
        "print(\"Hola python, repite lo que digo, por favor!\")"
      ],
      "metadata": {
        "colab": {
          "base_uri": "https://localhost:8080/"
        },
        "id": "AhmGtXsbiE-3",
        "outputId": "adf2c841-88ce-4c82-ec89-34a86cab4653"
      },
      "execution_count": 2,
      "outputs": [
        {
          "output_type": "stream",
          "name": "stdout",
          "text": [
            "Hola python, repite lo que digo, por favor!\n"
          ]
        }
      ]
    },
    {
      "cell_type": "markdown",
      "source": [
        "Que magnifico!"
      ],
      "metadata": {
        "id": "WNaoYSN0jI5k"
      }
    },
    {
      "cell_type": "markdown",
      "source": [
        "##**Ahora, ¿un programa?**\n",
        "Un programa es una secuencia de código con la finalidad de que este realice cierta tarea, no importa que tan sencilla sea está. \n",
        "Python puede hacer desde sumas entre dos números, hasta hacer un cálculo acerca de la positividad o negatividad de las personas en una red social sobre un tema determinado, y demás y demás cosas que puedes imaginar.\n",
        "\n",
        "Algunos conseptos básicos, no solo de python sino de la programación en general son: \n",
        "\n",
        "Entrada: Obtención de datos de mundo exterior. Pueden ser de un archivo, o de algún tipo de sensor como un micrófono o un GPS.\n",
        "\n",
        "Salida: Muestra el resúltado de un programa o en su defecto lo guarda en un archivo, o quizá lo escribe en un dispositivo de audio para su reproducción.\n",
        "\n",
        "Ejecución secuencial: Ejecuta lineas de código en el orden en el que se encuentren.\n",
        "\n",
        "Ejecución condicional: Análiza ciertas condiciones y luego las ejecuta o las salta, según sea el caso.\n",
        "\n",
        "Ejecución repetida: Repite algunas intrucciones de código, las cuales generalmente llevan una variación\n",
        "\n",
        "Reusa: Escribe una serie de instrucciones para que, por ejemplo, ingreses datos y luego escriba nueva información con esos datos.\n",
        "###**¿Errores?**\n",
        "Muchos y muy comunes, aquí una descripción breve de los principales\n",
        "\n",
        "Sintax error (error de sintaxis): Esto significa que has violado las leyes gramáticales de python \n",
        "\n",
        "Logic error (error de logística): Quizá tu código tiene buena sintaxis, pero hay un error en el orden del mismo, o quizá un error en como se relaciona entre las oraciones que lo componen.\n",
        "\n",
        "Semantic error (error de semantica): NO hay problemas de sintaxis ni de logica, hay un error \"simple\".\n",
        "###**Depurando**\n",
        "Cuando hay un error o incluso un resultado diferente acerca de lo que se había pedido, entonces viene el proceso de búsqueda por el error. Un camino de 4 pasos a seguir:\n",
        "\n",
        "Leer: Examina tu código, leelo un par de veces y asegurate que dice lo que debería decir.\n",
        "\n",
        "Correr: Haz diversos cambios en el código y correlo para observar el comportamiento \n",
        "\n",
        "Rumeando: Toma tiempo para pensar, si es que esté es un error semantico, logico, o de sintaxis, lee la información acerca del error, y vizualiza la cual probable del mismo.\n",
        "\n",
        "Retirada: Algunas veces, lo mejor que puedes hacer es borrar el código hasta la parte donde funciona bien y comenzar a re-escribir el código."
      ],
      "metadata": {
        "id": "bTyjkGeojhsX"
      }
    },
    {
      "cell_type": "markdown",
      "source": [
        "##**Valores**\n",
        "Un valor es una cosa básica con la que la consola trabaja, puede ser una letra o un número, por ejemplo, 7,5 u \"hola mundo\". \n",
        "Estos pertenecen a dos tipos de valores, mientras que los números son enteros (int), el \"hola mundo\" es una cadena (str), es llamado de esta manera ya que esta conformado por una cadena de letras. Podrás indentificarlos y a su vez el interpretador tambien debido a que este último tipo se encuentra entre comillas. Y podemos imprimirlos:"
      ],
      "metadata": {
        "id": "AQkaCpCcs1BB"
      }
    },
    {
      "cell_type": "code",
      "source": [
        "print(\"Hola mundo\")"
      ],
      "metadata": {
        "colab": {
          "base_uri": "https://localhost:8080/"
        },
        "id": "mtI2OcKVjIos",
        "outputId": "b5b91c5b-afdb-4f10-e762-ef0370fbf896"
      },
      "execution_count": 3,
      "outputs": [
        {
          "output_type": "stream",
          "name": "stdout",
          "text": [
            "Hola mundo\n"
          ]
        }
      ]
    },
    {
      "cell_type": "code",
      "source": [
        "print(7)"
      ],
      "metadata": {
        "colab": {
          "base_uri": "https://localhost:8080/"
        },
        "id": "JgMU6XgCjGJg",
        "outputId": "0372ebb3-1de2-40b8-f8a7-234df545c62f"
      },
      "execution_count": 4,
      "outputs": [
        {
          "output_type": "stream",
          "name": "stdout",
          "text": [
            "7\n"
          ]
        }
      ]
    },
    {
      "cell_type": "code",
      "source": [
        "\"\"\"\n",
        "Si aún así no estas seguro puedes pedirle a la función type() que te diga cúal es cúal.\n",
        "\"\"\"\n",
        "type(\"Hola mundo\"), type(7)"
      ],
      "metadata": {
        "colab": {
          "base_uri": "https://localhost:8080/"
        },
        "id": "_L3SvhhBt7wU",
        "outputId": "18ade15a-5ee7-45d4-8854-2958d5c24458"
      },
      "execution_count": 5,
      "outputs": [
        {
          "output_type": "execute_result",
          "data": {
            "text/plain": [
              "(str, int)"
            ]
          },
          "metadata": {},
          "execution_count": 5
        }
      ]
    },
    {
      "cell_type": "code",
      "source": [
        "\"\"\"\n",
        "Por otra parte existen los números con números décimales los cuales pertenecen a la clase \"float\"\n",
        "debido a que son representados en un formato llamado \"punto flotante\"\n",
        "\"\"\"\n",
        "type(3.2)"
      ],
      "metadata": {
        "colab": {
          "base_uri": "https://localhost:8080/"
        },
        "id": "kPf4Fn7auXJ9",
        "outputId": "6305a2e7-aa44-40d7-a46d-224ff878fa8a"
      },
      "execution_count": 6,
      "outputs": [
        {
          "output_type": "execute_result",
          "data": {
            "text/plain": [
              "float"
            ]
          },
          "metadata": {},
          "execution_count": 6
        }
      ]
    },
    {
      "cell_type": "code",
      "source": [
        "\"\"\"\n",
        "Que tal los siguientes números ¿\"18\" y \"23.5\"?\n",
        "\"\"\"\n",
        "type(\"18\"), type(\"23.5\")\n",
        "# Aunque son número al estar entre comillas son tomados como cadenas"
      ],
      "metadata": {
        "colab": {
          "base_uri": "https://localhost:8080/"
        },
        "id": "71YRT6SUvER6",
        "outputId": "ae187399-e373-40c7-f498-1b720f1952d7"
      },
      "execution_count": 9,
      "outputs": [
        {
          "output_type": "execute_result",
          "data": {
            "text/plain": [
              "(str, str)"
            ]
          },
          "metadata": {},
          "execution_count": 9
        }
      ]
    },
    {
      "cell_type": "code",
      "source": [
        "\"\"\"\n",
        "Cuando ecribes números grandes puede que intentes ecribirlos con comas para delimitar grupos de tre digitos, pero\n",
        "esto es incorrecto\n",
        "\"\"\"\n",
        "print(1,995,777)\n",
        "# Python pensará que son número diferentes"
      ],
      "metadata": {
        "colab": {
          "base_uri": "https://localhost:8080/"
        },
        "id": "vu1Y9SXxvKI0",
        "outputId": "044e1b33-472f-4a25-cf67-571a8d7a457b"
      },
      "execution_count": 12,
      "outputs": [
        {
          "output_type": "stream",
          "name": "stdout",
          "text": [
            "1 995 777\n"
          ]
        }
      ]
    },
    {
      "cell_type": "markdown",
      "source": [
        "##**Variables**\n",
        "Una heramienta poderosa de la programación es la manipulación de varibales. Una variable es aquella que hace referencia a un valor\n"
      ],
      "metadata": {
        "id": "QE4450MWwTQf"
      }
    },
    {
      "cell_type": "code",
      "source": [
        "\"\"\"\n",
        "Definimos una variable dandole con valor como por ejemplo:\n",
        "\"\"\"\n",
        "x = \"Hola Paco, ¿cómo estas?\""
      ],
      "metadata": {
        "id": "nHNt_9zGwAjv"
      },
      "execution_count": 13,
      "outputs": []
    },
    {
      "cell_type": "code",
      "source": [
        "\"\"\"\n",
        "y así cuando imprimaos la \"x\", nos dirá:\n",
        "\"\"\"\n",
        "print(x)"
      ],
      "metadata": {
        "colab": {
          "base_uri": "https://localhost:8080/"
        },
        "id": "3RASZzKLw8RG",
        "outputId": "e9a485fe-9056-4f9a-a9ec-259ba29ae282"
      },
      "execution_count": 14,
      "outputs": [
        {
          "output_type": "stream",
          "name": "stdout",
          "text": [
            "Hola Paco, ¿cómo estas?\n"
          ]
        }
      ]
    },
    {
      "cell_type": "code",
      "source": [
        "\"\"\"\n",
        "Aunque tambien puede almacernar valores\n",
        "\"\"\"\n",
        "a = 12"
      ],
      "metadata": {
        "id": "CH_m4plgxEUC"
      },
      "execution_count": 15,
      "outputs": []
    },
    {
      "cell_type": "code",
      "source": [
        "\"\"\"\n",
        "Y cuando imprimamos \"a\"\n",
        "\"\"\"\n",
        "print(a)"
      ],
      "metadata": {
        "colab": {
          "base_uri": "https://localhost:8080/"
        },
        "id": "FzI9s8USxUTC",
        "outputId": "56d13c3b-bb71-4df1-cb34-bca0e0b6e64f"
      },
      "execution_count": 16,
      "outputs": [
        {
          "output_type": "stream",
          "name": "stdout",
          "text": [
            "12\n"
          ]
        }
      ]
    },
    {
      "cell_type": "code",
      "source": [
        "\"\"\"\n",
        "O almacenar listas de valores\n",
        "\"\"\"\n",
        "k = ([1,2,3,4,5,6,7,8,9])\n",
        "print(k)"
      ],
      "metadata": {
        "colab": {
          "base_uri": "https://localhost:8080/"
        },
        "id": "j-CNc2u3xai9",
        "outputId": "2a1ad5be-790a-4e57-cc80-d341d54560e4"
      },
      "execution_count": 20,
      "outputs": [
        {
          "output_type": "stream",
          "name": "stdout",
          "text": [
            "[1, 2, 3, 4, 5, 6, 7, 8, 9]\n"
          ]
        }
      ]
    },
    {
      "cell_type": "markdown",
      "source": [
        "Debes de tener en cuenta que cuando defines una variable este tiene que tener un nombre legible, el nombre puede contener caracteres númericos pero estos no deben ir al inicio, e puden usar tanto mayúsculas como minusculas, por convencionalidad en nombres largos suele ocuparse el guión bajo para los espacios entre palabras. De igual manera hay palabras dentro de la grámatica propia de python las cuales no puedes usar como nombres de variables, estás son:\n",
        "\n",
        "\n",
        "*   and \n",
        "*   del \n",
        "*   from\n",
        "*   None \n",
        "*   True\n",
        "*   as\n",
        "*   elif \n",
        "*   global\n",
        "*  nonlocal\n",
        "*   try\n",
        "*  assert \n",
        "*   else \n",
        "*   if \n",
        "* not \n",
        "* while\n",
        "* break \n",
        "* except \n",
        "* import \n",
        "*  or \n",
        "*  with\n",
        "* class \n",
        "* False \n",
        "* in \n",
        "* pass \n",
        "* yield\n",
        "* continue \n",
        "* finally \n",
        "* is \n",
        "* raise \n",
        "* async\n",
        "* def \n",
        "* for \n",
        "* lambda \n",
        "* return \n",
        "* await \n",
        "* item\n",
        "\n"
      ],
      "metadata": {
        "id": "CBTUheP3x8JB"
      }
    },
    {
      "cell_type": "markdown",
      "source": [
        "##**Operadores**\n",
        "Lo operadores, son carácteres especiales que representan operaciones, y se reprentan:\n",
        "\n",
        "+>Suma \n",
        "\n",
        "-> Resta\n",
        "\n",
        "*> Multiplicación\n",
        "* / -> División\n",
        "*  ** -> Exponente\n",
        "* == -> Igual no confuncir con \"=\" ya que uno solo es para definición de variables\n"
      ],
      "metadata": {
        "id": "Tkqxi33c0mBz"
      }
    }
  ]
}